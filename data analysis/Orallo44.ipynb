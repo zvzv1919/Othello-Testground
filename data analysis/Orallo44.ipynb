{
  "nbformat": 4,
  "nbformat_minor": 0,
  "metadata": {
    "colab": {
      "provenance": [],
      "collapsed_sections": [
        "_uNLkPYWWWUG",
        "W9L0bo9KrHQp",
        "Z5hJYkHzrL7K",
        "UdGYl_EYTH59",
        "TysfJI4FwNzB",
        "DQ3TMsdluCgF",
        "jaOg7AMT_SqE",
        "bSUQcR92JpP9"
      ]
    },
    "kernelspec": {
      "name": "python3",
      "display_name": "Python 3"
    },
    "language_info": {
      "name": "python"
    }
  },
  "cells": [
    {
      "cell_type": "markdown",
      "source": [
        "# Train an Oracle for Othello at ply 44"
      ],
      "metadata": {
        "id": "IOk2fAJ2PYph"
      }
    },
    {
      "cell_type": "markdown",
      "source": [
        "The result from Edax eval shows an accuracy of 71% at ply 44 (16 empty squares). To significantly surpass Edax we target a model with >80% accuracy."
      ],
      "metadata": {
        "id": "8uH_LV_Nvzql"
      }
    },
    {
      "cell_type": "code",
      "source": [
        "cd /content/drive/MyDrive/EdaxAnalyzer_Data"
      ],
      "metadata": {
        "colab": {
          "base_uri": "https://localhost:8080/"
        },
        "id": "1W4BZwoafU8s",
        "outputId": "d12a2808-65a9-40fa-b9fa-156a3862cc9f"
      },
      "execution_count": null,
      "outputs": [
        {
          "output_type": "stream",
          "name": "stdout",
          "text": [
            "/content/drive/MyDrive/EdaxAnalyzer_Data\n"
          ]
        }
      ]
    },
    {
      "cell_type": "markdown",
      "source": [
        "## Data Preperation\n",
        "\n",
        "Generate data & label:\n",
        "\n",
        "```\n",
        "X, X_train, X_test # data, formatted as a len-64 ternary string of 0,1,-1. 0 -> empty_square, 1 -> X_square, -1 -> O_square\n",
        "\n",
        "y, y_train, y_test # label, transformed from score (difference in square) to 3 positivities\n",
        "```\n",
        "\n"
      ],
      "metadata": {
        "id": "_uNLkPYWWWUG"
      }
    },
    {
      "cell_type": "code",
      "source": [
        "def extract_states(test_obf_file):\n",
        "    states = []\n",
        "    mapping = {'X': 1, '-': 0, 'O': -1}\n",
        "    with open(test_obf_file, 'r') as file:\n",
        "        for line in file:\n",
        "            obf = line.split()[0]\n",
        "            new_state = np.array([mapping[char] for char in obf])\n",
        "            # print(new_state)\n",
        "            states.append(new_state)\n",
        "    return np.array(states)\n",
        "\n",
        "import pandas as pd\n",
        "import numpy as np\n",
        "import matplotlib.pyplot as plt\n",
        "def extract_scores(solution_file):\n",
        "    scores = []\n",
        "    with open(solution_file, 'r') as file:\n",
        "        # Skip the header and the line below it\n",
        "        next(file)\n",
        "        next(file)\n",
        "\n",
        "        for line in file:\n",
        "            if not line.strip():\n",
        "                continue  # Skip any empty lines\n",
        "            parts = line.split('|')[1].split()\n",
        "            depth = int(parts[0].strip())\n",
        "            score = parts[1].strip()\n",
        "\n",
        "            # Check if the depth is 16, then extract the score\n",
        "            # assert(depth == 16)\n",
        "            scores.append(int(score))\n",
        "\n",
        "    return np.array(scores)"
      ],
      "metadata": {
        "id": "j3ZT8LQMtkFN"
      },
      "execution_count": null,
      "outputs": []
    },
    {
      "cell_type": "code",
      "source": [
        "def transform_to_positivity(arr):\n",
        "    positivity_array = np.zeros_like(arr, dtype=np.int16)\n",
        "    positivity_array[arr > 0] = 1\n",
        "    positivity_array[arr < 0] = -1\n",
        "    return positivity_array"
      ],
      "metadata": {
        "id": "maePNvQKmlYp"
      },
      "execution_count": null,
      "outputs": []
    },
    {
      "cell_type": "code",
      "source": [
        "# load data\n",
        "scores_16_16 = extract_scores(\"100k_20240502/eval_16_16_100k_20240502.txt\")\n",
        "scores_0_16 = extract_scores(\"100k_20240502/eval_0_16_100k_20240502.txt\")\n",
        "X = extract_states(\"100k_20240502/test_obf_16_100k_20240502\")\n",
        "\n",
        "transformed_scores_16 = transform_to_positivity(scores_16_16)\n",
        "from sklearn.model_selection import train_test_split\n",
        "X_train, X_test, y_train, y_test = train_test_split(X, transformed_scores_16, test_size=0.2)\n",
        "\n",
        "# transform y to catagorical\n",
        "y_train += 1\n",
        "y_test += 1\n",
        "y_test"
      ],
      "metadata": {
        "id": "QygpFMPLpYeq",
        "colab": {
          "base_uri": "https://localhost:8080/"
        },
        "outputId": "0de2a27d-8bf4-46eb-8fcd-136505970d89"
      },
      "execution_count": null,
      "outputs": [
        {
          "output_type": "execute_result",
          "data": {
            "text/plain": [
              "array([0, 0, 2, ..., 2, 0, 0], dtype=int16)"
            ]
          },
          "metadata": {},
          "execution_count": 11
        }
      ]
    },
    {
      "cell_type": "markdown",
      "source": [
        "## FC model"
      ],
      "metadata": {
        "id": "axb48FDQq7lx"
      }
    },
    {
      "cell_type": "markdown",
      "source": [
        "### Modeling"
      ],
      "metadata": {
        "id": "W9L0bo9KrHQp"
      }
    },
    {
      "cell_type": "code",
      "source": [
        "# Import necessary libraries\n",
        "import numpy as np\n",
        "import tensorflow as tf\n",
        "\n",
        "# Define your fully connected neural network model architecture\n",
        "def create_fc_model(input_shape, num_classes):\n",
        "    model = tf.keras.Sequential([\n",
        "        tf.keras.layers.Flatten(input_shape=input_shape),\n",
        "        tf.keras.layers.Dense(128, activation='relu'),\n",
        "        tf.keras.layers.Dropout(0.2),\n",
        "        tf.keras.layers.Dense(64, activation='relu'),\n",
        "        tf.keras.layers.Dense(num_classes, activation='softmax')\n",
        "    ])\n",
        "    return model\n",
        "\n",
        "# Load your dataset and preprocess it\n",
        "# X_train, y_train, X_test, y_test = load_and_preprocess_data()\n",
        "\n",
        "# Define your model hyperparameters\n",
        "input_shape = (64,)  # Input shape of your data (for flattened input)\n",
        "num_classes = 3  # Number of classes in your dataset\n",
        "learning_rate = 0.001\n",
        "batch_size = 32\n",
        "epochs = 100\n",
        "\n",
        "# Create an instance of your model\n",
        "model = create_fc_model(input_shape, num_classes)\n",
        "\n",
        "# Compile the model\n",
        "model.compile(optimizer=tf.keras.optimizers.Adam(learning_rate=learning_rate),\n",
        "              loss='sparse_categorical_crossentropy',\n",
        "              metrics=['accuracy'])"
      ],
      "metadata": {
        "id": "80laVHXTWQlb"
      },
      "execution_count": null,
      "outputs": []
    },
    {
      "cell_type": "markdown",
      "source": [
        "### Training"
      ],
      "metadata": {
        "id": "Z5hJYkHzrL7K"
      }
    },
    {
      "cell_type": "code",
      "source": [
        "# Report loss & Acc for epoch 0 as it's not reported by model.fit\n",
        "initial_training_loss, initial_training_accuracy = model.evaluate(X_train, y_train)\n",
        "initial_testing_loss, initial_testing_accuracy = model.evaluate(X_test, y_test)\n",
        "\n",
        "# Train the model\n",
        "from tensorflow.keras.callbacks import EarlyStopping\n",
        "early_stopping = EarlyStopping(\n",
        "    monitor='val_loss',\n",
        "    min_delta=0.001,  # Only consider improvements that decrease the loss by at least 0.001\n",
        "    patience=20,      # Number of epochs with no significant improvement\n",
        "    verbose=1,\n",
        "    mode='min'\n",
        ")\n",
        "history = model.fit(X_train, y_train, epochs=epochs, batch_size=batch_size, validation_data=(X_test, y_test), callbacks=[early_stopping])\n",
        "\n",
        "# Evaluate the model\n",
        "test_loss, test_accuracy = model.evaluate(X_test, y_test)\n",
        "print(f\"Test Loss: {test_loss}, Test Accuracy: {test_accuracy}\")"
      ],
      "metadata": {
        "colab": {
          "base_uri": "https://localhost:8080/"
        },
        "id": "SrsrE46QrF4y",
        "outputId": "e85b4003-ca77-44b9-ea79-746f0bf706b1"
      },
      "execution_count": null,
      "outputs": [
        {
          "output_type": "stream",
          "name": "stdout",
          "text": [
            "2500/2500 [==============================] - 4s 2ms/step - loss: 1.2842 - accuracy: 0.2348\n",
            "625/625 [==============================] - 2s 3ms/step - loss: 1.2818 - accuracy: 0.2379\n",
            "Epoch 1/100\n",
            "2500/2500 [==============================] - 8s 3ms/step - loss: 0.7489 - accuracy: 0.6524 - val_loss: 0.7273 - val_accuracy: 0.6666\n",
            "Epoch 2/100\n",
            "2500/2500 [==============================] - 9s 4ms/step - loss: 0.7291 - accuracy: 0.6675 - val_loss: 0.7259 - val_accuracy: 0.6669\n",
            "Epoch 3/100\n",
            "2500/2500 [==============================] - 7s 3ms/step - loss: 0.7243 - accuracy: 0.6686 - val_loss: 0.7226 - val_accuracy: 0.6690\n",
            "Epoch 4/100\n",
            "2500/2500 [==============================] - 9s 4ms/step - loss: 0.7204 - accuracy: 0.6713 - val_loss: 0.7245 - val_accuracy: 0.6683\n",
            "Epoch 5/100\n",
            "2500/2500 [==============================] - 6s 3ms/step - loss: 0.7174 - accuracy: 0.6731 - val_loss: 0.7255 - val_accuracy: 0.6686\n",
            "Epoch 6/100\n",
            "2500/2500 [==============================] - 9s 3ms/step - loss: 0.7137 - accuracy: 0.6744 - val_loss: 0.7287 - val_accuracy: 0.6672\n",
            "Epoch 7/100\n",
            "2500/2500 [==============================] - 6s 2ms/step - loss: 0.7104 - accuracy: 0.6758 - val_loss: 0.7300 - val_accuracy: 0.6667\n",
            "Epoch 8/100\n",
            "2500/2500 [==============================] - 9s 4ms/step - loss: 0.7057 - accuracy: 0.6787 - val_loss: 0.7288 - val_accuracy: 0.6651\n",
            "Epoch 9/100\n",
            "2500/2500 [==============================] - 6s 2ms/step - loss: 0.7015 - accuracy: 0.6814 - val_loss: 0.7279 - val_accuracy: 0.6683\n",
            "Epoch 10/100\n",
            "2500/2500 [==============================] - 8s 3ms/step - loss: 0.6983 - accuracy: 0.6835 - val_loss: 0.7268 - val_accuracy: 0.6708\n",
            "Epoch 11/100\n",
            "2500/2500 [==============================] - 7s 3ms/step - loss: 0.6937 - accuracy: 0.6872 - val_loss: 0.7283 - val_accuracy: 0.6690\n",
            "Epoch 12/100\n",
            "2500/2500 [==============================] - 9s 4ms/step - loss: 0.6895 - accuracy: 0.6886 - val_loss: 0.7250 - val_accuracy: 0.6732\n",
            "Epoch 13/100\n",
            "2500/2500 [==============================] - 7s 3ms/step - loss: 0.6868 - accuracy: 0.6918 - val_loss: 0.7262 - val_accuracy: 0.6733\n",
            "Epoch 14/100\n",
            "2500/2500 [==============================] - 10s 4ms/step - loss: 0.6828 - accuracy: 0.6927 - val_loss: 0.7263 - val_accuracy: 0.6729\n",
            "Epoch 15/100\n",
            "2500/2500 [==============================] - 7s 3ms/step - loss: 0.6791 - accuracy: 0.6953 - val_loss: 0.7254 - val_accuracy: 0.6715\n",
            "Epoch 16/100\n",
            "2500/2500 [==============================] - 9s 4ms/step - loss: 0.6764 - accuracy: 0.6966 - val_loss: 0.7238 - val_accuracy: 0.6772\n",
            "Epoch 17/100\n",
            "2500/2500 [==============================] - 7s 3ms/step - loss: 0.6743 - accuracy: 0.6999 - val_loss: 0.7244 - val_accuracy: 0.6748\n",
            "Epoch 18/100\n",
            "2500/2500 [==============================] - 11s 4ms/step - loss: 0.6707 - accuracy: 0.7022 - val_loss: 0.7239 - val_accuracy: 0.6723\n",
            "Epoch 19/100\n",
            "2500/2500 [==============================] - 6s 3ms/step - loss: 0.6682 - accuracy: 0.7019 - val_loss: 0.7238 - val_accuracy: 0.6773\n",
            "Epoch 20/100\n",
            "2500/2500 [==============================] - 9s 4ms/step - loss: 0.6655 - accuracy: 0.7035 - val_loss: 0.7254 - val_accuracy: 0.6771\n",
            "Epoch 21/100\n",
            "2500/2500 [==============================] - 7s 3ms/step - loss: 0.6626 - accuracy: 0.7052 - val_loss: 0.7285 - val_accuracy: 0.6719\n",
            "Epoch 22/100\n",
            "2500/2500 [==============================] - 8s 3ms/step - loss: 0.6597 - accuracy: 0.7073 - val_loss: 0.7281 - val_accuracy: 0.6752\n",
            "Epoch 23/100\n",
            "2500/2500 [==============================] - 7s 3ms/step - loss: 0.6564 - accuracy: 0.7099 - val_loss: 0.7262 - val_accuracy: 0.6733\n",
            "Epoch 23: early stopping\n",
            "625/625 [==============================] - 1s 1ms/step - loss: 0.7262 - accuracy: 0.6733\n",
            "Test Loss: 0.7262471318244934, Test Accuracy: 0.6733499765396118\n"
          ]
        }
      ]
    },
    {
      "cell_type": "code",
      "source": [
        "# Optionally, save the trained model\n",
        "model.save('models/FC_128_64_epoch100.keras')"
      ],
      "metadata": {
        "id": "15BdGEv8wtmK"
      },
      "execution_count": null,
      "outputs": []
    },
    {
      "cell_type": "markdown",
      "source": [
        "### Result"
      ],
      "metadata": {
        "id": "UdGYl_EYTH59"
      }
    },
    {
      "cell_type": "markdown",
      "source": [
        "Training Curves"
      ],
      "metadata": {
        "id": "gmXeKqp9Y3VV"
      }
    },
    {
      "cell_type": "code",
      "source": [
        "def plot_training_history(history):\n",
        "  # Plot training & validation loss values\n",
        "  plt.figure(figsize=(12, 6))\n",
        "  plt.subplot(1, 2, 1)\n",
        "  plt.plot(history.history['loss'])\n",
        "  if 'val_loss' in history.history:\n",
        "      plt.plot(history.history['val_loss'])\n",
        "  plt.title('Model Loss')\n",
        "  plt.ylabel('Loss')\n",
        "  plt.xlabel('Epoch')\n",
        "  plt.legend(['Train', 'Validation'], loc='upper left')\n",
        "\n",
        "  # Plot training & validation accuracy values\n",
        "  plt.subplot(1, 2, 2)\n",
        "  plt.plot(history.history['accuracy'])\n",
        "  if 'val_accuracy' in history.history:\n",
        "      plt.plot(history.history['val_accuracy'])\n",
        "  plt.title('Model Accuracy')\n",
        "  plt.ylabel('Accuracy')\n",
        "  plt.xlabel('Epoch')\n",
        "  plt.legend(['Train', 'Validation'], loc='upper left')\n",
        "\n",
        "  plt.tight_layout()\n",
        "  plt.show()\n",
        "\n",
        "plot_training_history(history)"
      ],
      "metadata": {
        "id": "hIM2Zg-WxPFa",
        "colab": {
          "base_uri": "https://localhost:8080/",
          "height": 607
        },
        "outputId": "30a3ced0-3508-481d-9675-47aca8f9faeb"
      },
      "execution_count": null,
      "outputs": [
        {
          "output_type": "display_data",
          "data": {
            "text/plain": [
              "<Figure size 1200x600 with 2 Axes>"
            ],
            "image/png": "[encoded data removed]"
          },
          "metadata": {}
        }
      ]
    },
    {
      "cell_type": "markdown",
      "source": [
        "Classification Report"
      ],
      "metadata": {
        "id": "ME6EPUeFY7yf"
      }
    },
    {
      "cell_type": "code",
      "source": [
        "from sklearn.metrics import classification_report\n",
        "\n",
        "y_pred = model.predict(X_test)\n",
        "y_pred_classes = np.argmax(y_pred, axis=1)\n",
        "\n",
        "# Generating and printing the classification report\n",
        "report = classification_report(y_test, y_pred_classes)\n",
        "print(report)"
      ],
      "metadata": {
        "colab": {
          "base_uri": "https://localhost:8080/"
        },
        "id": "RrwcbJnfX8jG",
        "outputId": "54350bb5-984d-41c8-d7de-efe6df143d72"
      },
      "execution_count": null,
      "outputs": [
        {
          "output_type": "stream",
          "name": "stdout",
          "text": [
            "625/625 [==============================] - 1s 2ms/step\n",
            "              precision    recall  f1-score   support\n",
            "\n",
            "           0       0.66      0.62      0.64      8574\n",
            "           1       0.33      0.00      0.00       842\n",
            "           2       0.68      0.77      0.73     10584\n",
            "\n",
            "    accuracy                           0.67     20000\n",
            "   macro avg       0.56      0.46      0.46     20000\n",
            "weighted avg       0.66      0.67      0.66     20000\n",
            "\n"
          ]
        }
      ]
    },
    {
      "cell_type": "code",
      "source": [],
      "metadata": {
        "id": "3mwXWiTzvzy1"
      },
      "execution_count": null,
      "outputs": []
    },
    {
      "cell_type": "markdown",
      "source": [
        "### Model Improvement"
      ],
      "metadata": {
        "id": "CKIgCrfRHqhT"
      }
    },
    {
      "cell_type": "markdown",
      "source": [
        "Methods tried:\n",
        "*   Increasing model size: overfitting\n",
        "*   Early stop by training loss: overfitting\n",
        "*   List item\n",
        "*   List item\n",
        "\n",
        "\n"
      ],
      "metadata": {
        "id": "Uc515GxsigQ3"
      }
    },
    {
      "cell_type": "markdown",
      "source": [
        "#### Draws are rare (~3%) and trained classification model will predict extremely low probability for draws, resulting in 0/20000 predicted in a test sample:"
      ],
      "metadata": {
        "id": "TysfJI4FwNzB"
      }
    },
    {
      "cell_type": "code",
      "source": [
        "# load data\n",
        "scores_16_16 = extract_scores(\"100k_20240502/eval_16_16_100k_20240502.txt\")\n",
        "scores_0_16 = extract_scores(\"100k_20240502/eval_0_16_100k_20240502.txt\")\n",
        "X = extract_states(\"100k_20240502/test_obf_16_100k_20240502\")\n",
        "\n",
        "transformed_scores_16 = transform_to_positivity(scores_16_16)\n",
        "from sklearn.model_selection import train_test_split\n",
        "X_train, X_test, y_train, y_test = train_test_split(X, transformed_scores_16, test_size=0.2)"
      ],
      "metadata": {
        "id": "B9KrrEzNwqa2"
      },
      "execution_count": null,
      "outputs": []
    },
    {
      "cell_type": "code",
      "source": [
        "# Using numpy.unique to find unique elements and their counts\n",
        "unique_elements, counts = np.unique(y_test, return_counts=True)\n",
        "\n",
        "# Printing the elements and their frequencies\n",
        "for element, count in zip(unique_elements, counts):\n",
        "    print(f'Element {element}: {count} times')"
      ],
      "metadata": {
        "id": "EkuGPAFkXptG",
        "colab": {
          "base_uri": "https://localhost:8080/"
        },
        "outputId": "154f41da-5cd4-4e2b-902e-16202395319a"
      },
      "execution_count": null,
      "outputs": [
        {
          "output_type": "stream",
          "name": "stdout",
          "text": [
            "Element -1: 8682 times\n",
            "Element 0: 877 times\n",
            "Element 1: 10441 times\n"
          ]
        }
      ]
    },
    {
      "cell_type": "code",
      "source": [
        "import seaborn as sns\n",
        "\n",
        "# Predicting test data\n",
        "\n",
        "y_pred = model.predict(X_test)\n",
        "\n",
        "# Extract columns\n",
        "first_column = y_pred[:, 0]\n",
        "second_column = y_pred[:, 1]\n",
        "third_column = y_pred[:, 2]\n",
        "\n",
        "# Create the density plot for each column\n",
        "sns.kdeplot(first_column, fill=True, label='lose')\n",
        "sns.kdeplot(second_column, fill=True, label='draw')\n",
        "sns.kdeplot(third_column, fill=True, label='win')\n",
        "\n",
        "# Adding titles and labels\n",
        "plt.title('Density Plot of the lose, draw and win on 20k samples')\n",
        "plt.xlabel('Values')\n",
        "plt.ylabel('Density')\n",
        "plt.legend()  # Add a legend to identify each plot\n",
        "\n",
        "plt.show()"
      ],
      "metadata": {
        "colab": {
          "base_uri": "https://localhost:8080/",
          "height": 490
        },
        "id": "V6m0bS0jwWHv",
        "outputId": "3cef7b9a-0d59-40bd-f6ca-c83e8ada7672"
      },
      "execution_count": null,
      "outputs": [
        {
          "output_type": "stream",
          "name": "stdout",
          "text": [
            "625/625 [==============================] - 1s 2ms/step\n"
          ]
        },
        {
          "output_type": "display_data",
          "data": {
            "text/plain": [
              "<Figure size 640x480 with 1 Axes>"
            ],
            "image/png": "[encoded data removed]"
          },
          "metadata": {}
        }
      ]
    },
    {
      "cell_type": "code",
      "source": [
        "def transform_to_nonnegativity(arr):\n",
        "    positivity_array = np.zeros_like(arr, dtype=np.int16)\n",
        "    positivity_array[arr >= 0] = 1\n",
        "    positivity_array[arr < 0] = 0\n",
        "    return positivity_array\n",
        "\n",
        "X = extract_states(\"100k_20240502/test_obf_16_100k_20240502\")\n",
        "transformed_scores_16 = transform_to_nonnegativity(scores_16_16)\n",
        "X_train, X_test, y_train, y_test = train_test_split(X, transformed_scores_16, test_size=0.2)"
      ],
      "metadata": {
        "id": "fgiywvQeIBCs"
      },
      "execution_count": null,
      "outputs": []
    },
    {
      "cell_type": "code",
      "source": [
        "# Create a condition array where True denotes different signs between x and y\n",
        "transformed_scores_0 = transform_to_nonnegativity(scores_0_16)\n",
        "different_signs = np.sign(transformed_scores_0) != np.sign(transformed_scores_16)\n",
        "\n",
        "# Plotting\n",
        "plt.figure(figsize=(10, 6))\n",
        "plt.scatter(scores_0_16[different_signs], scores_16_16[different_signs], color='red', label='Different Signs')\n",
        "plt.scatter(scores_0_16[~different_signs], scores_16_16[~different_signs], color='blue', label='Same Signs')\n",
        "plt.xlabel('scores_0')\n",
        "plt.ylabel('scores_16')\n",
        "plt.title('Scatter Plot Highlighting Different Signs')\n",
        "plt.legend()\n",
        "plt.grid(True)\n",
        "plt.show()"
      ],
      "metadata": {
        "colab": {
          "base_uri": "https://localhost:8080/",
          "height": 564
        },
        "id": "a28Bmvw1QXp8",
        "outputId": "f91df22e-6063-476f-8f7a-46627789f6ef"
      },
      "execution_count": null,
      "outputs": [
        {
          "output_type": "display_data",
          "data": {
            "text/plain": [
              "<Figure size 1000x600 with 1 Axes>"
            ],
            "image/png": "[encoded data removed]"
          },
          "metadata": {}
        }
      ]
    },
    {
      "cell_type": "code",
      "source": [
        "np.sum(different_signs)"
      ],
      "metadata": {
        "colab": {
          "base_uri": "https://localhost:8080/"
        },
        "id": "BrqHCg1kQ003",
        "outputId": "307adce1-d9fe-4e57-c219-5aaf0ecaa731"
      },
      "execution_count": null,
      "outputs": [
        {
          "output_type": "execute_result",
          "data": {
            "text/plain": [
              "27002"
            ]
          },
          "metadata": {},
          "execution_count": 24
        }
      ]
    },
    {
      "cell_type": "code",
      "source": [
        "\n",
        "\n",
        "# Using numpy.unique to find unique elements and their counts\n",
        "unique_elements, counts = np.unique(scores_0_16, return_counts=True)\n",
        "\n",
        "# Printing the elements and their frequencies\n",
        "# for element, count in zip(unique_elements, counts):\n",
        "    # print(f'Element {element}: {count} times')"
      ],
      "metadata": {
        "id": "PjaX1wARSGBi"
      },
      "execution_count": null,
      "outputs": []
    },
    {
      "cell_type": "markdown",
      "source": [
        "#### Feed more data\n",
        "\n",
        "With small sample (size 10k), the trained acc of model is significantly lower (65%, also overfits much earlier after ~epoch 5). Reproducible using data in `16_10k_20240510`. \\\\\n",
        "We hereby train another model with 1M data."
      ],
      "metadata": {
        "id": "fjcFNJMspaMK"
      }
    },
    {
      "cell_type": "markdown",
      "source": [
        "##### Testing with small sample (0.1x)"
      ],
      "metadata": {
        "id": "DQ3TMsdluCgF"
      }
    },
    {
      "cell_type": "code",
      "source": [
        "def transform_to_positivity(arr):\n",
        "    positivity_array = np.zeros_like(arr, dtype=np.int16)\n",
        "    positivity_array[arr > 0] = 1\n",
        "    positivity_array[arr < 0] = -1\n",
        "    return positivity_array\n",
        "\n",
        "X = extract_states(\"16_10k_20240510/obf\")\n",
        "scores_16_16 = extract_scores(\"16_10k_20240510/eval_16.txt\")\n",
        "transformed_scores_16 = transform_to_positivity(scores_16_16)\n",
        "X_train, X_test, y_train, y_test = train_test_split(X, transformed_scores_16, test_size=0.2)\n",
        "\n",
        "# transform y to catagorical\n",
        "y_train += 1\n",
        "y_test += 1\n",
        "y_test\n"
      ],
      "metadata": {
        "colab": {
          "base_uri": "https://localhost:8080/"
        },
        "id": "OYeaa5H4pdqc",
        "outputId": "58183e5a-0a90-4600-eeca-0c069ab7f4a0"
      },
      "execution_count": null,
      "outputs": [
        {
          "output_type": "execute_result",
          "data": {
            "text/plain": [
              "array([0, 0, 2, ..., 0, 2, 2], dtype=int16)"
            ]
          },
          "metadata": {},
          "execution_count": 27
        }
      ]
    },
    {
      "cell_type": "code",
      "source": [
        "# Define your model hyperparameters\n",
        "input_shape = (64,)  # Input shape of your data (for flattened input)\n",
        "num_classes = 3  # Number of classes in your dataset\n",
        "learning_rate = 0.001\n",
        "batch_size = 32\n",
        "epochs = 100\n",
        "\n",
        "def create_fc_model(input_shape, num_classes):\n",
        "    model = tf.keras.Sequential([\n",
        "        tf.keras.layers.Flatten(input_shape=input_shape),\n",
        "        tf.keras.layers.Dense(128, activation='relu'),\n",
        "        tf.keras.layers.Dropout(0.2),\n",
        "        tf.keras.layers.Dense(64, activation='relu'),\n",
        "        tf.keras.layers.Dense(num_classes, activation='softmax')\n",
        "    ])\n",
        "    return model\n",
        "\n",
        "# Create an instance of your model\n",
        "model = create_fc_model(input_shape, num_classes)\n",
        "\n",
        "# Compile the model\n",
        "model.compile(optimizer=tf.keras.optimizers.Adam(learning_rate=learning_rate),\n",
        "              loss='sparse_categorical_crossentropy',\n",
        "              metrics=['accuracy'])"
      ],
      "metadata": {
        "id": "JJ0HHYUGphud"
      },
      "execution_count": null,
      "outputs": []
    },
    {
      "cell_type": "code",
      "source": [
        "# Report loss & Acc for epoch 0 as it's not reported by model.fit\n",
        "initial_training_loss, initial_training_accuracy = model.evaluate(X_train, y_train)\n",
        "initial_testing_loss, initial_testing_accuracy = model.evaluate(X_test, y_test)\n",
        "\n",
        "# Train the model\n",
        "from tensorflow.keras.callbacks import EarlyStopping\n",
        "early_stopping = EarlyStopping(\n",
        "    monitor='val_loss',\n",
        "    min_delta=0.001,  # Only consider improvements that decrease the loss by at least 0.001\n",
        "    patience=20,      # Number of epochs with no significant improvement\n",
        "    verbose=1,\n",
        "    mode='min'\n",
        ")\n",
        "history = model.fit(X_train, y_train, epochs=epochs, batch_size=batch_size, validation_data=(X_test, y_test), callbacks=[early_stopping])\n",
        "\n",
        "# Evaluate the model\n",
        "test_loss, test_accuracy = model.evaluate(X_test, y_test)\n",
        "print(f\"Test Loss: {test_loss}, Test Accuracy: {test_accuracy}\")"
      ],
      "metadata": {
        "colab": {
          "base_uri": "https://localhost:8080/"
        },
        "id": "q-wqL_LIploT",
        "outputId": "6556e50a-59ca-480e-ffbf-7efff6d93ca2"
      },
      "execution_count": null,
      "outputs": [
        {
          "output_type": "stream",
          "name": "stdout",
          "text": [
            "250/250 [==============================] - 3s 8ms/step - loss: 1.1642 - accuracy: 0.3439\n",
            "63/63 [==============================] - 1s 8ms/step - loss: 1.1739 - accuracy: 0.3300\n",
            "Epoch 1/100\n",
            "250/250 [==============================] - 4s 7ms/step - loss: 0.8059 - accuracy: 0.6060 - val_loss: 0.7704 - val_accuracy: 0.6420\n",
            "Epoch 2/100\n",
            "250/250 [==============================] - 2s 7ms/step - loss: 0.7307 - accuracy: 0.6669 - val_loss: 0.7664 - val_accuracy: 0.6375\n",
            "Epoch 3/100\n",
            "250/250 [==============================] - 1s 5ms/step - loss: 0.7012 - accuracy: 0.6835 - val_loss: 0.7695 - val_accuracy: 0.6430\n",
            "Epoch 4/100\n",
            "250/250 [==============================] - 1s 4ms/step - loss: 0.6896 - accuracy: 0.6879 - val_loss: 0.7735 - val_accuracy: 0.6435\n",
            "Epoch 5/100\n",
            "250/250 [==============================] - 1s 3ms/step - loss: 0.6718 - accuracy: 0.7010 - val_loss: 0.7742 - val_accuracy: 0.6435\n",
            "Epoch 6/100\n",
            "250/250 [==============================] - 1s 3ms/step - loss: 0.6583 - accuracy: 0.7081 - val_loss: 0.7817 - val_accuracy: 0.6390\n",
            "Epoch 7/100\n",
            "250/250 [==============================] - 1s 4ms/step - loss: 0.6324 - accuracy: 0.7234 - val_loss: 0.7937 - val_accuracy: 0.6385\n",
            "Epoch 8/100\n",
            "250/250 [==============================] - 1s 5ms/step - loss: 0.6183 - accuracy: 0.7249 - val_loss: 0.7990 - val_accuracy: 0.6365\n",
            "Epoch 9/100\n",
            "250/250 [==============================] - 1s 6ms/step - loss: 0.6009 - accuracy: 0.7320 - val_loss: 0.8175 - val_accuracy: 0.6280\n",
            "Epoch 10/100\n",
            "250/250 [==============================] - 1s 5ms/step - loss: 0.5840 - accuracy: 0.7477 - val_loss: 0.8431 - val_accuracy: 0.6230\n",
            "Epoch 11/100\n",
            "250/250 [==============================] - 1s 4ms/step - loss: 0.5667 - accuracy: 0.7530 - val_loss: 0.8411 - val_accuracy: 0.6310\n",
            "Epoch 12/100\n",
            "250/250 [==============================] - 1s 3ms/step - loss: 0.5456 - accuracy: 0.7634 - val_loss: 0.8583 - val_accuracy: 0.6200\n",
            "Epoch 13/100\n",
            "250/250 [==============================] - 1s 3ms/step - loss: 0.5391 - accuracy: 0.7619 - val_loss: 0.8829 - val_accuracy: 0.6210\n",
            "Epoch 14/100\n",
            "250/250 [==============================] - 1s 3ms/step - loss: 0.5180 - accuracy: 0.7766 - val_loss: 0.8950 - val_accuracy: 0.6140\n",
            "Epoch 15/100\n",
            "250/250 [==============================] - 1s 3ms/step - loss: 0.5011 - accuracy: 0.7837 - val_loss: 0.9141 - val_accuracy: 0.6260\n",
            "Epoch 16/100\n",
            "250/250 [==============================] - 1s 2ms/step - loss: 0.4918 - accuracy: 0.7859 - val_loss: 0.9254 - val_accuracy: 0.6145\n",
            "Epoch 17/100\n",
            "250/250 [==============================] - 1s 3ms/step - loss: 0.4720 - accuracy: 0.8029 - val_loss: 0.9263 - val_accuracy: 0.6155\n",
            "Epoch 18/100\n",
            "250/250 [==============================] - 1s 3ms/step - loss: 0.4556 - accuracy: 0.8087 - val_loss: 0.9504 - val_accuracy: 0.6150\n",
            "Epoch 19/100\n",
            "250/250 [==============================] - 1s 3ms/step - loss: 0.4438 - accuracy: 0.8156 - val_loss: 0.9693 - val_accuracy: 0.6180\n",
            "Epoch 20/100\n",
            "250/250 [==============================] - 1s 5ms/step - loss: 0.4344 - accuracy: 0.8165 - val_loss: 0.9980 - val_accuracy: 0.6085\n",
            "Epoch 21/100\n",
            "250/250 [==============================] - 1s 6ms/step - loss: 0.4242 - accuracy: 0.8242 - val_loss: 1.0070 - val_accuracy: 0.5985\n",
            "Epoch 22/100\n",
            "250/250 [==============================] - 1s 5ms/step - loss: 0.4277 - accuracy: 0.8210 - val_loss: 1.0242 - val_accuracy: 0.6035\n",
            "Epoch 22: early stopping\n",
            "63/63 [==============================] - 0s 1ms/step - loss: 1.0242 - accuracy: 0.6035\n",
            "Test Loss: 1.0242061614990234, Test Accuracy: 0.6035000085830688\n"
          ]
        }
      ]
    },
    {
      "cell_type": "markdown",
      "source": [
        "##### Testing with large sample (10x)"
      ],
      "metadata": {
        "id": "nuN5gc41uIQ9"
      }
    },
    {
      "cell_type": "code",
      "source": [
        "def transform_to_positivity(arr):\n",
        "    positivity_array = np.zeros_like(arr, dtype=np.int16)\n",
        "    positivity_array[arr > 0] = 1\n",
        "    positivity_array[arr < 0] = -1\n",
        "    return positivity_array\n",
        "\n",
        "X = extract_states(\"16_1M_20240509/obf\")\n",
        "scores_16_16 = extract_scores(\"16_1M_20240509/eval_16.txt\")\n",
        "transformed_scores_16 = transform_to_positivity(scores_16_16)\n",
        "X_train, X_test, y_train, y_test = train_test_split(X, transformed_scores_16, test_size=0.2)\n",
        "\n",
        "# transform y to catagorical\n",
        "y_train += 1\n",
        "y_test += 1\n",
        "y_test\n"
      ],
      "metadata": {
        "id": "NKs6mW9yhYbF",
        "colab": {
          "base_uri": "https://localhost:8080/"
        },
        "outputId": "377e93da-33bb-48e2-9933-5c1a13e8a030"
      },
      "execution_count": 35,
      "outputs": [
        {
          "output_type": "execute_result",
          "data": {
            "text/plain": [
              "array([2, 2, 1, ..., 2, 2, 2], dtype=int16)"
            ]
          },
          "metadata": {},
          "execution_count": 35
        }
      ]
    },
    {
      "cell_type": "code",
      "source": [
        "# Define your model hyperparameters\n",
        "input_shape = (64,)  # Input shape of your data (for flattened input)\n",
        "num_classes = 3  # Number of classes in your dataset\n",
        "learning_rate = 0.001\n",
        "batch_size = 32\n",
        "epochs = 100\n",
        "\n",
        "def create_fc_model(input_shape, num_classes):\n",
        "    model = tf.keras.Sequential([\n",
        "        tf.keras.layers.Flatten(input_shape=input_shape),\n",
        "        tf.keras.layers.Dense(128, activation='relu'),\n",
        "        tf.keras.layers.Dropout(0.2),\n",
        "        tf.keras.layers.Dense(64, activation='relu'),\n",
        "        tf.keras.layers.Dense(num_classes, activation='softmax')\n",
        "    ])\n",
        "    return model\n",
        "\n",
        "# Create an instance of your model\n",
        "model = create_fc_model(input_shape, num_classes)\n",
        "\n",
        "# Compile the model\n",
        "model.compile(optimizer=tf.keras.optimizers.Adam(learning_rate=learning_rate),\n",
        "              loss='sparse_categorical_crossentropy',\n",
        "              metrics=['accuracy'])"
      ],
      "metadata": {
        "id": "DNHJifOMhf9h"
      },
      "execution_count": 36,
      "outputs": []
    },
    {
      "cell_type": "code",
      "source": [
        "# Report loss & Acc for epoch 0 as it's not reported by model.fit\n",
        "initial_training_loss, initial_training_accuracy = model.evaluate(X_train, y_train)\n",
        "initial_testing_loss, initial_testing_accuracy = model.evaluate(X_test, y_test)\n",
        "\n",
        "# Train the model\n",
        "from tensorflow.keras.callbacks import EarlyStopping\n",
        "early_stopping = EarlyStopping(\n",
        "    monitor='val_loss',\n",
        "    min_delta=0.001,  # Only consider improvements that decrease the loss by at least 0.001\n",
        "    patience=20,      # Number of epochs with no significant improvement\n",
        "    verbose=1,\n",
        "    mode='min'\n",
        ")\n",
        "history = model.fit(X_train, y_train, epochs=epochs, batch_size=batch_size, validation_data=(X_test, y_test), callbacks=[early_stopping])\n",
        "\n",
        "# Evaluate the model\n",
        "test_loss, test_accuracy = model.evaluate(X_test, y_test)\n",
        "print(f\"Test Loss: {test_loss}, Test Accuracy: {test_accuracy}\")"
      ],
      "metadata": {
        "id": "K_dGSxtYhe0K",
        "colab": {
          "base_uri": "https://localhost:8080/"
        },
        "outputId": "528cefa7-c07d-481b-c558-17e91c12361d"
      },
      "execution_count": null,
      "outputs": [
        {
          "output_type": "stream",
          "name": "stdout",
          "text": [
            "25000/25000 [==============================] - 47s 2ms/step - loss: 1.0747 - accuracy: 0.4049\n",
            "6250/6250 [==============================] - 12s 2ms/step - loss: 1.0738 - accuracy: 0.4064\n",
            "Epoch 1/100\n",
            "25000/25000 [==============================] - 86s 3ms/step - loss: 0.7307 - accuracy: 0.6674 - val_loss: 0.7123 - val_accuracy: 0.6819\n",
            "Epoch 2/100\n",
            "25000/25000 [==============================] - 72s 3ms/step - loss: 0.7031 - accuracy: 0.6884 - val_loss: 0.6783 - val_accuracy: 0.7043\n",
            "Epoch 3/100\n",
            "25000/25000 [==============================] - 76s 3ms/step - loss: 0.6798 - accuracy: 0.7047 - val_loss: 0.6627 - val_accuracy: 0.7143\n",
            "Epoch 4/100\n",
            "13515/25000 [===============>..............] - ETA: 28s - loss: 0.6683 - accuracy: 0.7118"
          ]
        }
      ]
    },
    {
      "cell_type": "markdown",
      "source": [
        "#### Modified model"
      ],
      "metadata": {
        "id": "jaOg7AMT_SqE"
      }
    },
    {
      "cell_type": "code",
      "source": [
        "def transform_to_nonnegativity(arr):\n",
        "    positivity_array = np.zeros_like(arr, dtype=np.int16)\n",
        "    positivity_array[arr >= 0] = 1\n",
        "    positivity_array[arr < 0] = 0\n",
        "    return positivity_array\n",
        "\n",
        "X = extract_states(\"100k_20240502/test_obf_16_100k_20240502\")\n",
        "scores_16_16 = extract_scores(\"100k_20240502/eval_16_16_100k_20240502.txt\")\n",
        "scores_0_16 = extract_scores(\"100k_20240502/eval_0_16_100k_20240502.txt\")\n",
        "transformed_scores_16 = transform_to_nonnegativity(scores_16_16)\n",
        "X_train, X_test, y_train, y_test = train_test_split(X, transformed_scores_16, test_size=0.2)"
      ],
      "metadata": {
        "id": "NHm_ajVufZSZ"
      },
      "execution_count": null,
      "outputs": []
    },
    {
      "cell_type": "code",
      "source": [
        "# Define your model hyperparameters\n",
        "input_shape = (64,)  # Input shape of your data (for flattened input)\n",
        "num_classes = 2  # Number of classes in your dataset\n",
        "learning_rate = 0.001\n",
        "batch_size = 32\n",
        "epochs = 100\n",
        "\n",
        "def create_fc_model(input_shape, num_classes):\n",
        "    model = tf.keras.Sequential([\n",
        "        tf.keras.layers.Flatten(input_shape=input_shape),\n",
        "        tf.keras.layers.Dense(128, activation='relu'),\n",
        "        tf.keras.layers.Dropout(0.2),\n",
        "        tf.keras.layers.Dense(64, activation='relu'),\n",
        "        tf.keras.layers.Dense(num_classes, activation='softmax')\n",
        "    ])\n",
        "    return model\n",
        "\n",
        "# Create an instance of your model\n",
        "model = create_fc_model(input_shape, num_classes)\n",
        "\n",
        "# Compile the model\n",
        "model.compile(optimizer=tf.keras.optimizers.Adam(learning_rate=learning_rate),\n",
        "              loss='sparse_categorical_crossentropy',\n",
        "              metrics=['accuracy'])"
      ],
      "metadata": {
        "id": "E3ne0DMlIkin"
      },
      "execution_count": null,
      "outputs": []
    },
    {
      "cell_type": "code",
      "source": [
        "# Report loss & Acc for epoch 0 as it's not reported by model.fit\n",
        "initial_training_loss, initial_training_accuracy = model.evaluate(X_train, y_train)\n",
        "initial_testing_loss, initial_testing_accuracy = model.evaluate(X_test, y_test)\n",
        "\n",
        "# Train the model\n",
        "from tensorflow.keras.callbacks import EarlyStopping\n",
        "early_stopping = EarlyStopping(\n",
        "    monitor='val_loss',\n",
        "    min_delta=0.001,  # Only consider improvements that decrease the loss by at least 0.001\n",
        "    patience=20,      # Number of epochs with no significant improvement\n",
        "    verbose=1,\n",
        "    mode='min'\n",
        ")\n",
        "history = model.fit(X_train, y_train, epochs=epochs, batch_size=batch_size, validation_data=(X_test, y_test), callbacks=[early_stopping])\n",
        "\n",
        "# Evaluate the model\n",
        "test_loss, test_accuracy = model.evaluate(X_test, y_test)\n",
        "print(f\"Test Loss: {test_loss}, Test Accuracy: {test_accuracy}\")"
      ],
      "metadata": {
        "id": "pgZQ5TFYJDXU"
      },
      "execution_count": null,
      "outputs": []
    },
    {
      "cell_type": "markdown",
      "source": [
        "### Evaluate model on other game stages"
      ],
      "metadata": {
        "id": "bSUQcR92JpP9"
      }
    },
    {
      "cell_type": "markdown",
      "source": [
        "#### 11 squares"
      ],
      "metadata": {
        "id": "MsnrJXlCSzF-"
      }
    },
    {
      "cell_type": "code",
      "source": [
        "X = extract_states(\"100k_20240508/test_obf_11_100k_20240508\")\n",
        "scores_0_11 = extract_scores(\"100k_20240508/eval_0_11_100k_20240508.txt\")\n",
        "scores_11_11 = extract_scores(\"100k_20240508/eval_11_11_100k_20240508.txt\")"
      ],
      "metadata": {
        "id": "zD1C3rTtS5Iv"
      },
      "execution_count": null,
      "outputs": []
    },
    {
      "cell_type": "code",
      "source": [
        "transformed_scores_11 = transform_to_positivity(scores_11_11)\n",
        "transformed_scores_11 += 1\n",
        "model.evaluate(X, transformed_scores_11)"
      ],
      "metadata": {
        "id": "Vf_yDgmHZBUQ"
      },
      "execution_count": null,
      "outputs": []
    },
    {
      "cell_type": "markdown",
      "source": [
        "*italicized text*## CNN model"
      ],
      "metadata": {
        "id": "tX0AvONYJZlA"
      }
    }
  ]
}